{
 "metadata": {
  "name": "",
  "signature": "sha256:a8ea87580e34879bec2daa6d19f1eba8d2caabc9b333682518755e4f353da6ec"
 },
 "nbformat": 3,
 "nbformat_minor": 0,
 "worksheets": []
}